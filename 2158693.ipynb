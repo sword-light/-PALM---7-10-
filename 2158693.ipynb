{
 "cells": [
  {
   "cell_type": "markdown",
   "metadata": {
    "collapsed": false
   },
   "source": [
    "# 常规赛：PALM病理性近视预测基线方案\n",
    "\n",
    "**赛题简述**\n",
    "\n",
    "\tPALM病理性近视预测常规赛的重点是研究和发展与病理性近视诊断相关的算法。该常规赛的目标是评估和比较在一个常见的视网膜眼底图像数据集上检测病理性近视的自动算法。具体任务是将提供的图像分为病理性近视眼底彩照和非病理性近视眼底彩照，其中，非病理性近视眼底彩照包括正常眼底和高度近视眼底彩照。\n",
    "    \n",
    "![](https://ai-studio-static-online.cdn.bcebos.com/049a11b2a0d6459bbea817529d74be64b69ab7357c8f4990bc56a3b830aa6def)\n",
    "\n",
    "\n",
    "**数据简介**\n",
    "\n",
    "\tPALM病理性近视预测常规赛由中山大学中山眼科中心提供800张带病理性近视分类标注的眼底彩照供选手训练模型，另提供400张带标注数据供平台进行模型测试。本次常规赛提供的病理性近视分类金标准是从临床报告中获取，不仅基于眼底彩照，还结合了OCT、视野检查等结果。\n",
    "\n",
    "**数据基本标签**\n",
    "\n",
    "    非病理：0\n",
    "    病理  ：1\n",
    "\n",
    "**训练数据集**\n",
    "\n",
    "文件名称：Train\n",
    "\n",
    "\tTrain文件夹里有一个fundus_image文件夹和一个Classification.xlsx文件。fundus_image文件夹中数据均为眼底彩照，分辨率为1444×1444，或2124×2056。命名形如N0001.jpg、H0001.jpg、P0001.jpg和V0001.jpg。Classification.xlsx文件中为各眼底图像是否属于病理性近视，属于为1，不属于为0。\n",
    "\n",
    "**测试数据集**\n",
    "\n",
    "文件名称：PALM-Testing400-Images \n",
    "\n",
    "\t文件夹里包含400张眼底彩照，命名形如T0001.jpg。\n"
   ]
  },
  {
   "cell_type": "code",
   "execution_count": null,
   "metadata": {
    "collapsed": false
   },
   "outputs": [],
   "source": [
    "# 解压 常规赛：PALM病理性近视预测.zip\n",
    "!unzip -oq data/data93479/常规赛：PALM病理性近视预测.zip -d dataset/\n",
    "# 移除不必要的文件夹\n",
    "!rm -rf dataset/__MACOSX"
   ]
  },
  {
   "cell_type": "markdown",
   "metadata": {
    "collapsed": false
   },
   "source": [
    "# 观察数据\n",
    "## 观察图片 size\n",
    "| Statistic | Width | Height |\n",
    "| -------- | -------- | -------- |\n",
    "| count\t| 800.00000\t| 800.000000\t|\n",
    "| mean\t| 2033.90000\t| 1974.910000\t|\n",
    "| std\t| 230.68704\t| 207.618336\t|\n",
    "| min\t| 1444.00000\t| 1444.000000\t|\n",
    "| 25%\t| 2124.00000\t| 2056.000000\t|\n",
    "| 50%\t| 2124.00000\t| 2056.000000\t|\n",
    "| 75%\t| 2124.00000\t| 2056.000000\t|\n",
    "| max\t| 2124.00000\t| 2056.000000\t|\n",
    "## 观察 labels 的分布\n",
    "| label | count |\n",
    "| -------- | -------- |\n",
    "| 1\t| 424\t|\n",
    "| 0\t| 376\t|\n"
   ]
  },
  {
   "cell_type": "code",
   "execution_count": null,
   "metadata": {
    "collapsed": false
   },
   "outputs": [],
   "source": [
    "\"\"\"\r\n",
    "观察图片集中图片size的大小\r\n",
    "\"\"\"\r\n",
    "import os\r\n",
    "from PIL import Image\r\n",
    "import pandas as pd\r\n",
    "\r\n",
    "train_img_dir = \"dataset/常规赛：PALM病理性近视预测/Train/fundus_image\"\r\n",
    "\r\n",
    "size_list = []\r\n",
    "for (dirpath, dirnames, filenames) in os.walk(train_img_dir):\r\n",
    "    for filename in filenames:\r\n",
    "        img_absolute_path = dirpath + \"/\" + filename\r\n",
    "        image = Image.open(img_absolute_path)\r\n",
    "        width, height = image.size\r\n",
    "        size_list.append([filename, width, height])\r\n",
    "\r\n",
    "image_size_df = pd.DataFrame(size_list, columns=['File', 'Width', 'Height'])\r\n",
    "\r\n",
    "image_size_df.info()\r\n",
    "image_size_df.describe()\r\n"
   ]
  },
  {
   "cell_type": "code",
   "execution_count": null,
   "metadata": {
    "collapsed": false
   },
   "outputs": [],
   "source": [
    "\"\"\"\r\n",
    "读取xlsx文件，并转换为 image names list、image labels list\r\n",
    "\"\"\"\r\n",
    "import pandas as pd\r\n",
    "\r\n",
    "# xlsx 文件，记录了图片名及其对应的标签\r\n",
    "total_data_info = pd.read_excel('dataset/常规赛：PALM病理性近视预测/Train/Classification.xlsx')\r\n",
    "total_data_info.info()\r\n",
    "\r\n",
    "# Label 分类统计\r\n",
    "print(total_data_info['Label'].value_counts())\r\n",
    "\r\n",
    "# series dataframe 转 list\r\n",
    "# total_data_info['imgName'].tolist()\r\n",
    "total_data_list = total_data_info.values.tolist()\r\n",
    "\r\n",
    "img_names = [x[0] for x in total_data_list]\r\n",
    "img_labels = [x[1] for x in total_data_list]\r\n",
    "\r\n",
    "print(\"image name length:\", len(img_names))\r\n",
    "print(\"image label length:\", len(img_labels))\r\n"
   ]
  },
  {
   "cell_type": "markdown",
   "metadata": {
    "collapsed": false
   },
   "source": [
    "# 加载数据\n",
    "## 图像增强\n",
    "![](dataset/original_T0001.jpg)![](dataset/converted_T0001.jpg)\n",
    "## 载入数据集\n",
    "\tfrom work.dataset import data_loader\n",
    "\tfrom work.dataset import TrainDataset\n",
    "\t# 训练时随机打乱数据顺序\n",
    "\trandom.shuffle(filenames)"
   ]
  },
  {
   "cell_type": "code",
   "execution_count": null,
   "metadata": {
    "collapsed": false
   },
   "outputs": [],
   "source": [
    "import cv2\r\n",
    "import matplotlib.pyplot as plt\r\n",
    "from PIL import Image\r\n",
    "from paddle.vision.transforms import functional as F\r\n",
    "\r\n",
    "img = Image.open(\"dataset/常规赛：PALM病理性近视预测/PALM-Testing400-Images/T0001.jpg\")\r\n",
    "# img = cv2.imread(\"dataset/常规赛：PALM病理性近视预测/PALM-Testing400-Images/T0001.jpg\")\r\n",
    "plt.imshow(img)\r\n",
    "plt.savefig(\"dataset/original_T0001.jpg\", dpi=100)\r\n",
    "plt.show()\r\n",
    "\r\n",
    "# 调节亮度\r\n",
    "converted_img = F.adjust_brightness(img, 2)\r\n",
    "plt.imshow(converted_img)\r\n",
    "plt.savefig(\"dataset/converted_T0001.jpg\", dpi=100)\r\n",
    "plt.show()\r\n"
   ]
  },
  {
   "cell_type": "code",
   "execution_count": null,
   "metadata": {
    "collapsed": false
   },
   "outputs": [],
   "source": [
    "\"\"\"\r\n",
    "yield 方式自定义的 data_loader, 适用于自定义的训练过程\r\n",
    "\"\"\"\r\n",
    "import pandas as pd\r\n",
    "\r\n",
    "from work.dataset import data_loader\r\n",
    "\r\n",
    "data_dir = 'dataset/常规赛：PALM病理性近视预测/Train/fundus_image'\r\n",
    "total_data_info = pd.read_excel('dataset/常规赛：PALM病理性近视预测/Train/Classification.xlsx')\r\n",
    "total_data_list = total_data_info.values.tolist()\r\n",
    "\r\n",
    "train_loader = data_loader(data_dir, total_data_list, batch_size=50)\r\n",
    "data_reader = train_loader()\r\n",
    "image, label = next(data_reader)\r\n",
    "# 查看数据类型\r\n",
    "print(\"image_type:\", type(image))\r\n",
    "print(\"label_type:\", type(label))\r\n",
    "# 查看数据形状\r\n",
    "image.shape, label.shape"
   ]
  },
  {
   "cell_type": "code",
   "execution_count": null,
   "metadata": {
    "collapsed": false
   },
   "outputs": [],
   "source": [
    "\"\"\"\r\n",
    "使用 paddle API 写的 DataSet, DataLoader\r\n",
    "适用于自动训练过程\r\n",
    "\"\"\"\r\n",
    "import pandas as pd\r\n",
    "import paddle\r\n",
    "\r\n",
    "from work.dataset import TrainDataset\r\n",
    "\r\n",
    "data_dir = 'dataset/常规赛：PALM病理性近视预测/Train/fundus_image'\r\n",
    "total_data_info = pd.read_excel('dataset/常规赛：PALM病理性近视预测/Train/Classification.xlsx')\r\n",
    "total_data_list = total_data_info.values.tolist()\r\n",
    "\r\n",
    "train_dataset = TrainDataset(data_dir, total_data_list)\r\n",
    "\r\n",
    "print('=============custom dataset=============')\r\n",
    "for data, label in train_dataset:\r\n",
    "    print(data.shape, label.shape)\r\n",
    "    break\r\n",
    "\r\n",
    "# 加载数据\r\n",
    "train_loader = paddle.io.DataLoader(train_dataset, return_list=True, shuffle=True, \r\n",
    "                                    batch_size=10, drop_last=True)\r\n",
    "for data, label in train_loader:\r\n",
    "    print(data.shape, label.shape)\r\n",
    "    break\r\n"
   ]
  },
  {
   "cell_type": "markdown",
   "metadata": {
    "collapsed": false
   },
   "source": [
    "# 网络搭建\n",
    "\n",
    "**飞桨框架内置模型**\n",
    "\n",
    "\t['ResNet', 'resnet18', 'resnet34', 'resnet50', 'resnet101', 'resnet152', 'VGG', 'vgg11', 'vgg13', 'vgg16', 'vgg19', 'MobileNetV1', 'mobilenet_v1', 'MobileNetV2', 'mobilenet_v2', 'LeNet']\n"
   ]
  },
  {
   "cell_type": "code",
   "execution_count": null,
   "metadata": {
    "collapsed": false
   },
   "outputs": [],
   "source": [
    "import paddle\r\n",
    "\r\n",
    "print('飞桨框架内置模型：', paddle.vision.models.__all__)\r\n"
   ]
  },
  {
   "cell_type": "code",
   "execution_count": null,
   "metadata": {
    "collapsed": false
   },
   "outputs": [],
   "source": [
    "import paddle\r\n",
    "from paddle.vision.models import resnet18\r\n",
    "\r\n",
    "# build model\r\n",
    "resnet18_model = resnet18(pretrained=True)\r\n",
    "\r\n",
    "# paddle.summary(resnet18, (64, 3, 112, 112))\r\n",
    "\r\n",
    "x = paddle.rand([1, 3, 224, 224])\r\n",
    "out = resnet18_model(x)\r\n",
    "\r\n",
    "print(\"resnet18 out_shape:\", out.shape)\r\n",
    "\r\n",
    "model = paddle.nn.Sequential(\r\n",
    "    resnet18_model,\r\n",
    "    paddle.nn.ReLU(),\r\n",
    "    paddle.nn.Dropout(0.2),\r\n",
    "    paddle.nn.Linear(1000, 2),\r\n",
    "    paddle.nn.Softmax()\r\n",
    ")\r\n",
    "\r\n",
    "paddle.summary(model, (64, 3, 360, 360))\r\n"
   ]
  },
  {
   "cell_type": "code",
   "execution_count": 1,
   "metadata": {
    "collapsed": false
   },
   "outputs": [
    {
     "name": "stdout",
     "output_type": "stream",
     "text": [
      "=============custom dataset=============\n"
     ]
    }
   ],
   "source": [
    "import random\n",
    "import paddle\n",
    "from paddle.vision.models import resnet18, resnet34, resnet50\n",
    "from paddle.optimizer import Momentum\n",
    "from paddle.regularizer import L2Decay\n",
    "from paddle.nn import CrossEntropyLoss\n",
    "from paddle.metric import Accuracy\n",
    "from paddle.vision.transforms import Transpose\n",
    "from paddle.static import InputSpec\n",
    "\n",
    "import pandas as pd\n",
    "from work.dataset import TrainDataset\n",
    "\n",
    "use_gpu = True\n",
    "paddle.set_device('gpu:0') if use_gpu else paddle.set_device('cpu')\n",
    "\n",
    "data_dir = 'dataset/常规赛：PALM病理性近视预测/Train/fundus_image'\n",
    "total_data_info = pd.read_excel('dataset/常规赛：PALM病理性近视预测/Train/Classification.xlsx')\n",
    "total_data_list = total_data_info.values.tolist()\n",
    "\n",
    "random.shuffle(total_data_list)\n",
    "train_data_list = total_data_list[:600]\n",
    "val_data_list = total_data_list[600:]\n",
    "\n",
    "train_dataset = TrainDataset(data_dir, train_data_list, mode='train')\n",
    "val_dataset = TrainDataset(data_dir, val_data_list, mode='val')\n",
    "\n",
    "train_loader = paddle.io.DataLoader(train_dataset, return_list=True, shuffle=True, batch_size=100)\n",
    "val_loader = paddle.io.DataLoader(val_dataset, return_list=True, batch_size=100)\n",
    "\n",
    "print('=============custom dataset=============')\n",
    "for data, label in train_loader:\n",
    "    print(\"train shape:\", data.shape, label.shape)\n",
    "    break\n",
    "for data, label in val_loader:\n",
    "    print(\"val shape:\", data.shape, label.shape)\n",
    "    break\n",
    "\n",
    "model_name = \"resnet18\"\n",
    "\n",
    "if model_name == \"resnet18\":\n",
    "    resnet_model = resnet18(pretrained=True)\n",
    "elif model_name == \"resnet34\":\n",
    "    resnet_model = resnet34(pretrained=True)\n",
    "elif model_name == \"resnet50\":\n",
    "    resnet_model = resnet50(pretrained=True)\n",
    "\n",
    "# 包含 resnet 的 Sequential 模型\n",
    "resnet_seq = paddle.nn.Sequential(\n",
    "    resnet_model,\n",
    "    paddle.nn.ReLU(),\n",
    "    paddle.nn.Dropout(0.2),\n",
    "    paddle.nn.Linear(1000, 2),\n",
    "    paddle.nn.Softmax()\n",
    ")\n",
    "\n",
    "# 调用 resnet50 模型\n",
    "# model_input = InputSpec([-1, 3, 360, 360], 'float32', 'image')\n",
    "# model = paddle.Model(resnet50(pretrained=True, num_classes=2), model_input)\n",
    "\n",
    "model = paddle.Model(resnet_seq)\n",
    "\n",
    "# 定义优化器\n",
    "optimizer = paddle.optimizer.Adam(learning_rate=1e-4, parameters=model.parameters())\n",
    "# 进行训练前准备\n",
    "model.prepare(optimizer, CrossEntropyLoss(), Accuracy())\n",
    "callback = paddle.callbacks.VisualDL(log_dir='log/visualdl_log_dir/{}_output_adjust_brightness'.format(model_name))\n",
    "\n",
    "print('============= start fit =============')\n",
    "# 启动训练\n",
    "model.fit(train_loader,\n",
    "          val_loader,\n",
    "          epochs=20,\n",
    "          save_dir=\"./log/checkpoints/{}_output_adjust_brightness\".format(model_name),\n",
    "          callbacks=callback)\n"
   ]
  },
  {
   "cell_type": "code",
   "execution_count": null,
   "metadata": {
    "collapsed": false
   },
   "outputs": [],
   "source": [
    "eval_result = model.evaluate(val_loader, verbose=1)"
   ]
  },
  {
   "cell_type": "code",
   "execution_count": null,
   "metadata": {
    "collapsed": false
   },
   "outputs": [],
   "source": [
    "pre_result = model.predict(train_loader)\r\n"
   ]
  },
  {
   "cell_type": "code",
   "execution_count": null,
   "metadata": {
    "collapsed": false
   },
   "outputs": [],
   "source": [
    "import os\r\n",
    "import cv2\r\n",
    "import paddle\r\n",
    "\r\n",
    "from work.dataset import transform_img\r\n",
    "\r\n",
    "test_dir = \"dataset/常规赛：PALM病理性近视预测/PALM-Testing400-Images\"\r\n",
    "class TestDataset(paddle.io.Dataset):\r\n",
    "    def __init__(self, data_dir):\r\n",
    "        self.data_dir = data_dir\r\n",
    "        self.test_img_names = os.listdir(data_dir)\r\n",
    "\r\n",
    "    def __getitem__(self, idx):\r\n",
    "        file_name = self.test_img_names[idx]\r\n",
    "        filepath = os.path.join(self.data_dir, file_name)\r\n",
    "        img = cv2.imread(filepath)\r\n",
    "        data = transform_img(img)\r\n",
    "        return data\r\n",
    "    \r\n",
    "    def __len__(self):\r\n",
    "        return len(self.test_img_names)\r\n",
    "\r\n",
    "test_dataset = TestDataset(test_dir)\r\n",
    "\r\n",
    "model.load('log/checkpoints/resnet34_output/8.pdparams')\r\n",
    "\r\n",
    "result = model.predict(test_dataset, batch_size=100)\r\n"
   ]
  },
  {
   "cell_type": "code",
   "execution_count": null,
   "metadata": {
    "collapsed": false
   },
   "outputs": [],
   "source": [
    "import numpy as np\r\n",
    "print(type(result))\r\n",
    "# print(result)\r\n",
    "result_np = np.array(result)\r\n",
    "print(result_np.shape)\r\n",
    "result_np = result_np.reshape((-1, 2))\r\n",
    "print(result_np.shape)\r\n",
    "result_sub = np.argmax(result_np, axis=1)\r\n",
    "print(type(result_sub), result_sub.shape)\r\n",
    "test_img_names = np.array(os.listdir(test_dir))\r\n",
    "print(type(test_img_names), test_img_names.shape)\r\n",
    "submission_np = np.concatenate((np.expand_dims(test_img_names, 0), np.expand_dims(result_sub, 0)), axis=0).transpose()"
   ]
  },
  {
   "cell_type": "code",
   "execution_count": null,
   "metadata": {
    "collapsed": false
   },
   "outputs": [],
   "source": [
    "import pandas as pd\r\n",
    "Submit_data = pd.DataFrame(submission_np)          # 转为DataFrame格式\r\n",
    "Submit_data.columns = ['FileName', 'PM Risk']    # 修改列名\r\n",
    "Submit_data = Submit_data.sort_values(by='FileName').reset_index(drop=True)   # 按照图片id排列\r\n",
    "Submit_data.to_csv('Classification_Results.csv', index=False, float_format=\"%.1f\")       # 保存结果csv"
   ]
  },
  {
   "cell_type": "code",
   "execution_count": null,
   "metadata": {
    "collapsed": false
   },
   "outputs": [],
   "source": [
    "import os\r\n",
    "import cv2\r\n",
    "import numpy as np\r\n",
    "import paddle\r\n",
    "from paddle.vision.models import resnet50\r\n",
    "from paddle.static import InputSpec\r\n",
    "\r\n",
    "from work.dataset import transform_img\r\n",
    "\r\n",
    "test_dir = \"dataset/常规赛：PALM病理性近视预测/PALM-Testing400-Images\"\r\n",
    "class TestDataset(paddle.io.Dataset):\r\n",
    "    def __init__(self, data_dir):\r\n",
    "        self.data_dir = data_dir\r\n",
    "        self.test_img_names = os.listdir(data_dir)\r\n",
    "\r\n",
    "    def __getitem__(self, idx):\r\n",
    "        file_name = self.test_img_names[idx]\r\n",
    "        filepath = os.path.join(self.data_dir, file_name)\r\n",
    "        img = cv2.imread(filepath)\r\n",
    "        data = transform_img(img)\r\n",
    "        return data\r\n",
    "    \r\n",
    "    def __len__(self):\r\n",
    "        return len(self.test_img_names)\r\n",
    "\r\n",
    "test_dataset = TestDataset(test_dir)\r\n",
    "\r\n",
    "# 定义数据读取器\r\n",
    "def test_data_loader(data_dir, batch_size=10):\r\n",
    "    test_image_names = os.listdir(data_dir)\r\n",
    "    def reader():\r\n",
    "        batch_imgs = []\r\n",
    "        for i in range(len(test_image_names)):\r\n",
    "            test_image_name = test_image_names[i]\r\n",
    "            filepath = os.path.join(data_dir, test_image_name)\r\n",
    "            img = cv2.imread(filepath)\r\n",
    "            img = transform_img(img)\r\n",
    "            # 每读取一个样本的数据，就将其放入数据列表中\r\n",
    "            batch_imgs.append(img)\r\n",
    "            if len(batch_imgs) == batch_size:\r\n",
    "                # 当数据列表的长度等于batch_size的时候，\r\n",
    "                # 把这些数据当作一个mini-batch，并作为数据生成器的一个输出\r\n",
    "                imgs_array = np.array(batch_imgs).astype('float32')\r\n",
    "                yield imgs_array\r\n",
    "                batch_imgs = []\r\n",
    "\r\n",
    "        if len(batch_imgs) > 0:\r\n",
    "            # 剩余样本数目不足一个batch_size的数据，一起打包成一个mini-batch\r\n",
    "            imgs_array = np.array(batch_imgs).astype('float32')\r\n",
    "            yield imgs_array\r\n",
    "\r\n",
    "    return reader\r\n",
    "\r\n",
    "test_loader = test_data_loader(test_dir, batch_size=100)\r\n",
    "test_data_reader = test_loader()\r\n",
    "\r\n",
    "# 调用resnet50模型\r\n",
    "model_input = InputSpec([-1, 3, 360, 360], 'float32', 'image')\r\n",
    "model = paddle.Model(resnet50(pretrained=True, num_classes=2), model_input)\r\n",
    "\r\n",
    "model.load('output/6.pdparams')\r\n",
    "print('============= start predict =============')\r\n",
    "\r\n",
    "result = model.predict(test_dataset, batch_size=100)\r\n"
   ]
  },
  {
   "cell_type": "markdown",
   "metadata": {
    "collapsed": false
   },
   "source": [
    "# 后话\n",
    "\n",
    "本项目构建了一个可以使用各类经典卷积神经网络进行图像二分类的模型，并采用了图像增强的方法（项目中仅使用了亮度调整 ）。\n",
    "\n",
    "因为当时的目的仅作为练习使用，所以没有刻意多次调参追求模型效果。\n",
    "\n",
    "上次结果提交距离这次提交审查也有一个月时间，所以不太清楚提交的结果是哪一次的 checkpoint。"
   ]
  },
  {
   "cell_type": "markdown",
   "metadata": {
    "collapsed": false
   },
   "source": [
    "请点击[此处](https://ai.baidu.com/docs#/AIStudio_Project_Notebook/a38e5576)查看本环境基本用法.  <br>\n",
    "Please click [here ](https://ai.baidu.com/docs#/AIStudio_Project_Notebook/a38e5576) for more detailed instructions. "
   ]
  }
 ],
 "metadata": {
  "kernelspec": {
   "display_name": "PaddlePaddle 2.1.0 (Python 3.5)",
   "language": "python",
   "name": "py35-paddle1.2.0"
  },
  "language_info": {
   "codemirror_mode": {
    "name": "ipython",
    "version": 3
   },
   "file_extension": ".py",
   "mimetype": "text/x-python",
   "name": "python",
   "nbconvert_exporter": "python",
   "pygments_lexer": "ipython3",
   "version": "3.7.4"
  }
 },
 "nbformat": 4,
 "nbformat_minor": 1
}
